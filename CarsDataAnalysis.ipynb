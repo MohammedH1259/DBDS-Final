{
  "nbformat": 4,
  "nbformat_minor": 0,
  "metadata": {
    "colab": {
      "name": "HashamNotebook.ipynb",
      "provenance": [],
      "collapsed_sections": [],
      "authorship_tag": "ABX9TyPEmvIDVWBl5bDmYOE5C3V3",
      "include_colab_link": true
    },
    "kernelspec": {
      "name": "python3",
      "display_name": "Python 3"
    },
    "language_info": {
      "name": "python"
    }
  },
  "cells": [
    {
      "cell_type": "markdown",
      "metadata": {
        "id": "view-in-github",
        "colab_type": "text"
      },
      "source": [
        "<a href=\"https://colab.research.google.com/github/MohammedH1259/DBDS-Final/blob/master/CarsDataAnalysis.ipynb\" target=\"_parent\"><img src=\"https://colab.research.google.com/assets/colab-badge.svg\" alt=\"Open In Colab\"/></a>"
      ]
    },
    {
      "cell_type": "code",
      "execution_count": 1,
      "metadata": {
        "id": "ihsfnsqPyI5a"
      },
      "outputs": [],
      "source": [
        "#Hasham Ali\n",
        "#Intro To Stats For Business\n",
        "#5/8/2022\n",
        "#Extra Credit Project \n"
      ]
    },
    {
      "cell_type": "code",
      "source": [
        "#Project Imports \n",
        "import pandas as pd\n",
        "import numpy as np\n",
        "import matplotlib.pyplot as plt\n",
        "from scipy.stats import binom\n",
        "from scipy.stats import hypergeom\n",
        "import scipy.stats as st\n",
        "from statsmodels.stats.weightstats import ztest as ztest\n",
        "from sklearn.linear_model import LinearRegression\n",
        "\n"
      ],
      "metadata": {
        "id": "WO5O1JUhyN6H",
        "colab": {
          "base_uri": "https://localhost:8080/",
          "height": 0
        },
        "outputId": "43c52683-63cb-4014-dbce-cdf53cdb11cd"
      },
      "execution_count": 2,
      "outputs": [
        {
          "output_type": "stream",
          "name": "stderr",
          "text": [
            "/usr/local/lib/python3.7/dist-packages/statsmodels/tools/_testing.py:19: FutureWarning: pandas.util.testing is deprecated. Use the functions in the public API at pandas.testing instead.\n",
            "  import pandas.util.testing as tm\n"
          ]
        }
      ]
    },
    {
      "cell_type": "code",
      "source": [
        "#Data Loading \n",
        "cars_df = pd.read_csv('cars.csv', sep = ';')\n",
        "print(cars_df.head())"
      ],
      "metadata": {
        "id": "JUGWHsmGywGB",
        "colab": {
          "base_uri": "https://localhost:8080/",
          "height": 0
        },
        "outputId": "cc7d673b-a92c-499e-cc2d-b392c6fc9416"
      },
      "execution_count": 3,
      "outputs": [
        {
          "output_type": "stream",
          "name": "stdout",
          "text": [
            "                         Car   MPG  Cylinders  Displacement  Horsepower  \\\n",
            "0  Chevrolet Chevelle Malibu  18.0          8         307.0       130.0   \n",
            "1          Buick Skylark 320  15.0          8         350.0       165.0   \n",
            "2         Plymouth Satellite  18.0          8         318.0       150.0   \n",
            "3              AMC Rebel SST  16.0          8         304.0       150.0   \n",
            "4                Ford Torino  17.0          8         302.0       140.0   \n",
            "\n",
            "   Weight  Acceleration  Model Origin  \n",
            "0  3504.0          12.0     70     US  \n",
            "1  3693.0          11.5     70     US  \n",
            "2  3436.0          11.0     70     US  \n",
            "3  3433.0          12.0     70     US  \n",
            "4  3449.0          10.5     70     US  \n"
          ]
        }
      ]
    },
    {
      "cell_type": "code",
      "source": [
        "#Data Cleaning (if necessry)\n",
        "print(cars_df.info())\n",
        "print(cars_df['MPG'].describe())\n",
        "#Data Cleaning Not Necessary All Values Are Loaded \n",
        "#There is a 0 value for MPG, might be best to remove \n",
        "cars_df = cars_df[cars_df['MPG']>0]\n",
        "print(cars_df.info())"
      ],
      "metadata": {
        "id": "c-IN0QRg1Qqb",
        "colab": {
          "base_uri": "https://localhost:8080/",
          "height": 0
        },
        "outputId": "7295f91d-345e-478a-841a-65c48a729998"
      },
      "execution_count": 4,
      "outputs": [
        {
          "output_type": "stream",
          "name": "stdout",
          "text": [
            "<class 'pandas.core.frame.DataFrame'>\n",
            "RangeIndex: 406 entries, 0 to 405\n",
            "Data columns (total 9 columns):\n",
            " #   Column        Non-Null Count  Dtype  \n",
            "---  ------        --------------  -----  \n",
            " 0   Car           406 non-null    object \n",
            " 1   MPG           406 non-null    float64\n",
            " 2   Cylinders     406 non-null    int64  \n",
            " 3   Displacement  406 non-null    float64\n",
            " 4   Horsepower    406 non-null    float64\n",
            " 5   Weight        406 non-null    float64\n",
            " 6   Acceleration  406 non-null    float64\n",
            " 7   Model         406 non-null    int64  \n",
            " 8   Origin        406 non-null    object \n",
            "dtypes: float64(5), int64(2), object(2)\n",
            "memory usage: 28.7+ KB\n",
            "None\n",
            "count    406.000000\n",
            "mean      23.051232\n",
            "std        8.401777\n",
            "min        0.000000\n",
            "25%       17.000000\n",
            "50%       22.350000\n",
            "75%       29.000000\n",
            "max       46.600000\n",
            "Name: MPG, dtype: float64\n",
            "<class 'pandas.core.frame.DataFrame'>\n",
            "Int64Index: 398 entries, 0 to 405\n",
            "Data columns (total 9 columns):\n",
            " #   Column        Non-Null Count  Dtype  \n",
            "---  ------        --------------  -----  \n",
            " 0   Car           398 non-null    object \n",
            " 1   MPG           398 non-null    float64\n",
            " 2   Cylinders     398 non-null    int64  \n",
            " 3   Displacement  398 non-null    float64\n",
            " 4   Horsepower    398 non-null    float64\n",
            " 5   Weight        398 non-null    float64\n",
            " 6   Acceleration  398 non-null    float64\n",
            " 7   Model         398 non-null    int64  \n",
            " 8   Origin        398 non-null    object \n",
            "dtypes: float64(5), int64(2), object(2)\n",
            "memory usage: 31.1+ KB\n",
            "None\n"
          ]
        }
      ]
    },
    {
      "cell_type": "markdown",
      "source": [
        "Chapter 2 - One Variable Analysis for Miles Per Gallon\n",
        "\n",
        "*   Relative Frequency\n",
        "*   Mean\n",
        "*   Standard Deviation\n",
        "*   Range\n",
        "*   Interquartile Range\n",
        "*   Lower and Upper Limit Values\n",
        "*   Box Plot\n",
        "*   Pie Chart\n",
        "\n",
        "\n",
        "\n",
        "\n",
        "\n",
        "\n",
        "\n"
      ],
      "metadata": {
        "id": "-p7mW2mf4DAu"
      }
    },
    {
      "cell_type": "code",
      "source": [
        "#Mean \n",
        "mean_MPG = cars_df['MPG'].mean()\n",
        "print('Mean MPG: '+ str(mean_MPG))"
      ],
      "metadata": {
        "id": "U-hB_UOt38JG",
        "colab": {
          "base_uri": "https://localhost:8080/",
          "height": 0
        },
        "outputId": "e74bd369-5883-4cba-a71b-f8a8e3ebd95c"
      },
      "execution_count": 5,
      "outputs": [
        {
          "output_type": "stream",
          "name": "stdout",
          "text": [
            "Mean MPG: 23.514572864321615\n"
          ]
        }
      ]
    },
    {
      "cell_type": "code",
      "source": [
        "#Median \n",
        "median_MPG = cars_df['MPG'].median()\n",
        "print('Median MPG: '+ str(median_MPG))"
      ],
      "metadata": {
        "id": "JBIr4QnU424D",
        "colab": {
          "base_uri": "https://localhost:8080/",
          "height": 0
        },
        "outputId": "23b76dff-f9d3-4693-9fc7-908ef8f38dd5"
      },
      "execution_count": 6,
      "outputs": [
        {
          "output_type": "stream",
          "name": "stdout",
          "text": [
            "Median MPG: 23.0\n"
          ]
        }
      ]
    },
    {
      "cell_type": "code",
      "source": [
        "#Standard Deviation \n",
        "standard_deviation_MPG = cars_df['MPG'].std()\n",
        "print('Standard Devation of MPG: '+ str(standard_deviation_MPG))"
      ],
      "metadata": {
        "id": "oVOU84575PBo",
        "colab": {
          "base_uri": "https://localhost:8080/",
          "height": 0
        },
        "outputId": "ebd8f12d-d5f0-4f37-8122-8ab2aba1bc23"
      },
      "execution_count": 7,
      "outputs": [
        {
          "output_type": "stream",
          "name": "stdout",
          "text": [
            "Standard Devation of MPG: 7.815984312565782\n"
          ]
        }
      ]
    },
    {
      "cell_type": "code",
      "source": [
        "#Range\n",
        "max_MPG = cars_df['MPG'].max()\n",
        "min_MPG = cars_df['MPG'].min()\n",
        "print('Max: '+ str(max_MPG))\n",
        "print('Min: '+ str(min_MPG))\n",
        "print('Range: '+ str(max_MPG-min_MPG))"
      ],
      "metadata": {
        "id": "2R9bbSIJ5qrG",
        "colab": {
          "base_uri": "https://localhost:8080/",
          "height": 0
        },
        "outputId": "3b0975ba-7d42-44e5-be3c-b8ce64f35982"
      },
      "execution_count": 8,
      "outputs": [
        {
          "output_type": "stream",
          "name": "stdout",
          "text": [
            "Max: 46.6\n",
            "Min: 9.0\n",
            "Range: 37.6\n"
          ]
        }
      ]
    },
    {
      "cell_type": "code",
      "source": [
        "#Interquartile Range \n",
        "q3, q1 = np.percentile(np.array(cars_df['MPG']),[75,25])\n",
        "iqr_MPG = q3 - q1\n",
        "print('Q1: '+str(q1))\n",
        "print('Q3:' +str(q3))\n",
        "print('IQR: '+ str(iqr_MPG))"
      ],
      "metadata": {
        "id": "0X2MQxLV6e1u",
        "colab": {
          "base_uri": "https://localhost:8080/",
          "height": 0
        },
        "outputId": "abbe2681-9d8f-4498-f342-a7d761a98674"
      },
      "execution_count": 9,
      "outputs": [
        {
          "output_type": "stream",
          "name": "stdout",
          "text": [
            "Q1: 17.5\n",
            "Q3:29.0\n",
            "IQR: 11.5\n"
          ]
        }
      ]
    },
    {
      "cell_type": "code",
      "source": [
        "#Relative Frequency \n",
        "relative_frequency_MPG = cars_df['MPG'].value_counts(normalize = True)\n",
        "print(relative_frequency_MPG)\n",
        "\n",
        "series = cars_df['MPG'].value_counts() / len(cars_df)\n",
        "index = range(len(relative_frequency_MPG))\n",
        "plt.figure(figsize = [30,5])\n",
        "plt.bar(index, series*100)\n",
        "plt.ylabel('%')\n",
        "plt.title('Relative fequency')\n",
        "plt.xticks(index, series.index, rotation = 90);\n"
      ],
      "metadata": {
        "id": "ymOifVWL7WHz",
        "colab": {
          "base_uri": "https://localhost:8080/",
          "height": 440
        },
        "outputId": "c699b480-8ada-4f8a-b387-2638457d5f5d"
      },
      "execution_count": 10,
      "outputs": [
        {
          "output_type": "stream",
          "name": "stdout",
          "text": [
            "13.0    0.050251\n",
            "14.0    0.047739\n",
            "18.0    0.042714\n",
            "15.0    0.040201\n",
            "26.0    0.035176\n",
            "          ...   \n",
            "31.9    0.002513\n",
            "16.9    0.002513\n",
            "18.2    0.002513\n",
            "22.3    0.002513\n",
            "44.0    0.002513\n",
            "Name: MPG, Length: 129, dtype: float64\n"
          ]
        },
        {
          "output_type": "display_data",
          "data": {
            "text/plain": [
              "<Figure size 2160x360 with 1 Axes>"
            ],
            "image/png": "[encoded data removed]"
          },
          "metadata": {
            "needs_background": "light"
          }
        }
      ]
    },
    {
      "cell_type": "code",
      "source": [
        "#Lower and Upper Limit Values \n",
        "lower_bound_MPG = q1-iqr_MPG*1.5\n",
        "upper_bound_MPG = q3+iqr_MPG*1.5\n",
        "print('Lower Bound: ' + str(lower_bound_MPG))\n",
        "print('Upper Bound: '+ str(upper_bound_MPG))"
      ],
      "metadata": {
        "id": "njhvKC817o7V",
        "colab": {
          "base_uri": "https://localhost:8080/",
          "height": 0
        },
        "outputId": "6665c9d8-a4e0-49e1-9052-74b2be49e6b1"
      },
      "execution_count": 11,
      "outputs": [
        {
          "output_type": "stream",
          "name": "stdout",
          "text": [
            "Lower Bound: 0.25\n",
            "Upper Bound: 46.25\n"
          ]
        }
      ]
    },
    {
      "cell_type": "code",
      "source": [
        "#Box Plot\n",
        "boxplot = cars_df.boxplot(column = ['MPG'])"
      ],
      "metadata": {
        "id": "LlB1YEX4ErdE",
        "colab": {
          "base_uri": "https://localhost:8080/",
          "height": 265
        },
        "outputId": "25376441-d5c7-47ef-a189-786e285b881c"
      },
      "execution_count": 12,
      "outputs": [
        {
          "output_type": "display_data",
          "data": {
            "text/plain": [
              "<Figure size 432x288 with 1 Axes>"
            ],
            "image/png": "[encoded data removed]"
          },
          "metadata": {
            "needs_background": "light"
          }
        }
      ]
    },
    {
      "cell_type": "code",
      "source": [
        "#Pie Chart\n",
        "print(cars_df['Origin'].value_counts())\n",
        "\n",
        "series = [249, 79, 70]\n",
        "mylabels = ['United States','Japan','Europe']\n",
        "plt.title('Breakdown of Cars by Location')\n",
        "plt.pie(series, labels = mylabels);\n",
        "plt.show()"
      ],
      "metadata": {
        "id": "Isjj6w9BF9Ym",
        "colab": {
          "base_uri": "https://localhost:8080/",
          "height": 333
        },
        "outputId": "383573c2-1d6f-43ae-8f45-6bbc5a2946e2"
      },
      "execution_count": 13,
      "outputs": [
        {
          "output_type": "stream",
          "name": "stdout",
          "text": [
            "US        249\n",
            "Japan      79\n",
            "Europe     70\n",
            "Name: Origin, dtype: int64\n"
          ]
        },
        {
          "output_type": "display_data",
          "data": {
            "text/plain": [
              "<Figure size 432x288 with 1 Axes>"
            ],
            "image/png": "[encoded data removed]"
          },
          "metadata": {}
        }
      ]
    },
    {
      "cell_type": "markdown",
      "source": [
        "Chater 3 - Probability Analysis \n",
        "\n",
        "\n",
        "\n",
        "*   Complement Rule\n",
        "*   Addition Rule\n",
        "\n"
      ],
      "metadata": {
        "id": "tGqoJRaKGiu2"
      }
    },
    {
      "cell_type": "code",
      "source": [
        "#Addition Rule\n",
        "#P(A or B) = P(A) + P(B) - P(A and B)\n",
        "#Event A - Probability of picking car with MPG < 20 \n",
        "#Event B - Probability of Picking car with MPG > 25 \n",
        "#Mutually Exclusive Event so P(A and B) = 0 \n",
        "\n",
        "\n",
        "(cars_df['MPG']<20).value_counts();\n",
        "#True = 151\n",
        "#False 247\n",
        "pA = 151/len(cars_df)\n",
        "\n",
        "(cars_df['MPG']>25).value_counts();\n",
        "#True = 158\n",
        "#False = 240\n",
        "pB = 158/len(cars_df)\n",
        "\n",
        "pAorB = pA + pB\n",
        "\n",
        "print('Probability of Event A :'+str(pA))\n",
        "print('Probability of Event B :'+str(pB))\n",
        "print('Probability of Event A or B :'+str(pAorB))"
      ],
      "metadata": {
        "colab": {
          "base_uri": "https://localhost:8080/",
          "height": 0
        },
        "id": "-Z_gdtZIEJbG",
        "outputId": "0d8a9f52-2305-4de6-bdec-9c315f284c91"
      },
      "execution_count": 14,
      "outputs": [
        {
          "output_type": "stream",
          "name": "stdout",
          "text": [
            "Probability of Event A :0.3793969849246231\n",
            "Probability of Event B :0.3969849246231156\n",
            "Probability of Event A or B :0.7763819095477387\n"
          ]
        }
      ]
    },
    {
      "cell_type": "code",
      "source": [
        "#Complement Rule \n",
        "#P(A) + P(A') = 1 \n",
        "#Event A - picking a car that has an MPG of > 28\n",
        "\n",
        "(cars_df['MPG']>25).value_counts()\n",
        "\n",
        "pA = 158/len(cars_df)\n",
        "pNotA = 240/len(cars_df)\n",
        "\n",
        "print('Probability of A: '+ str(pA))\n",
        "print('Probability of Not A: '+ str(pNotA))\n",
        "print('Probability of A and Not A :'+ str(pA + pNotA))\n",
        "\n",
        "\n"
      ],
      "metadata": {
        "colab": {
          "base_uri": "https://localhost:8080/",
          "height": 0
        },
        "id": "oi4MgyOzGNq0",
        "outputId": "7d5f266f-5525-4155-c3e8-59d7238ae0ec"
      },
      "execution_count": 15,
      "outputs": [
        {
          "output_type": "stream",
          "name": "stdout",
          "text": [
            "Probability of A: 0.3969849246231156\n",
            "Probability of Not A: 0.6030150753768844\n",
            "Probability of A and Not A :1.0\n"
          ]
        }
      ]
    },
    {
      "cell_type": "markdown",
      "source": [
        "Chapter 4 \n",
        "\n",
        "\n",
        "*   Bionmial Distribution\n",
        "*   Hypergeometric Distribution\n"
      ],
      "metadata": {
        "id": "TM-cT-qZHe-q"
      }
    },
    {
      "cell_type": "code",
      "source": [
        "#Binomial Distribution - \n",
        "#probability of picking a car that has MPG > Median (23 MPG)\n",
        "cars_gtM = cars_df['MPG']>median_MPG\n",
        "\n",
        "\n",
        "#There are 191 cars in our dataset that have a MPG greater than median \n",
        "probability_gtM = 191/len(cars_df)\n",
        "print('Probability: '+str(probability_gtM))\n",
        "\n",
        "\n",
        "#number of Trials: n = 10; trial is independent - You can pick a car and put it back \n",
        "#so probability is conserved\n",
        "n = 10 \n",
        "r_values = list(range(n+1))\n",
        "mean,var = binom.stats(n, probability_gtM)\n",
        "distribution = [binom.pmf(r,n,probability_gtM) for r in r_values]\n",
        "#Printing Distribution Table\n",
        "for i in range(n + 1):\n",
        "    print(str(r_values[i]) + \"\\t\" + str(distribution[i]))\n",
        "\n",
        "#Printing Bar Graph\n",
        "plt.bar(r_values, distribution)\n",
        "plt.ylabel('Probability')\n",
        "plt.title('Probability of Picking a Car with MPG > Median (23.0 MPG)')\n",
        "plt.xlabel('Trial Number')\n",
        "plt.show()\n"
      ],
      "metadata": {
        "id": "ffHPvba-H8-D",
        "colab": {
          "base_uri": "https://localhost:8080/",
          "height": 503
        },
        "outputId": "4c920ae1-9b9a-4b57-dfd9-003a75ca6621"
      },
      "execution_count": 16,
      "outputs": [
        {
          "output_type": "stream",
          "name": "stdout",
          "text": [
            "Probability: 0.4798994974874372\n",
            "0\t0.0014483473659296052\n",
            "1\t0.013363978110751448\n",
            "2\t0.055489561285946176\n",
            "3\t0.13653470152161973\n",
            "4\t0.22046726562126276\n",
            "5\t0.24411158106470254\n",
            "6\t0.18770254421641783\n",
            "7\t0.09896807714378417\n",
            "8\t0.0342443890117079\n",
            "9\t0.007021662159137107\n",
            "10\t0.0006478924987416359\n"
          ]
        },
        {
          "output_type": "display_data",
          "data": {
            "text/plain": [
              "<Figure size 432x288 with 1 Axes>"
            ],
            "image/png": "[encoded data removed]"
          },
          "metadata": {
            "needs_background": "light"
          }
        }
      ]
    },
    {
      "cell_type": "code",
      "source": [
        "#Hypergeometric Distribution \n",
        "\n",
        "#Collection of Cars - Got this Value from counting how many rows of cars we have\n",
        "M = 398\n",
        "\n",
        "#Collection of Cars whose value is less than MPG 398-191 where 191 number of cars MPG greater than median\n",
        "n = 398-191\n",
        "\n",
        "#Number of Trials - 50 \n",
        "N = 50 \n",
        "\n",
        "#Calculation\n",
        "rv= hypergeom(M,n,N)\n",
        "x= np.arange(0,n+1)\n",
        "pmf_cars_lessthanMedian = rv.pmf(x)\n",
        "\n",
        "\n",
        "#Figure Plot\n",
        "fig = plt.figure()\n",
        "ax = fig.add_subplot(111)\n",
        "ax.plot(x, pmf_cars_lessthanMedian, 'bo')\n",
        "ax.vlines(x, 0, pmf_cars_lessthanMedian, lw=2)\n",
        "ax.set_xlabel('# of Cars whose MPG is less than median in our population')\n",
        "ax.set_ylabel('hypergeom PMF')\n",
        "plt.show()\n"
      ],
      "metadata": {
        "id": "phoPsgUMIrQ7",
        "colab": {
          "base_uri": "https://localhost:8080/",
          "height": 279
        },
        "outputId": "d98820f5-d544-4a3a-d309-f791256f92f6"
      },
      "execution_count": 17,
      "outputs": [
        {
          "output_type": "display_data",
          "data": {
            "text/plain": [
              "<Figure size 432x288 with 1 Axes>"
            ],
            "image/png": "[encoded data removed]"
          },
          "metadata": {
            "needs_background": "light"
          }
        }
      ]
    },
    {
      "cell_type": "markdown",
      "source": [
        "Chapter 5\n",
        "\n",
        "\n",
        "*   Sampling Distribution based on Mean\n",
        "*   Sampling Distribution based on sample proportion\n",
        "\n"
      ],
      "metadata": {
        "id": "c3lELzM8PjVr"
      }
    },
    {
      "cell_type": "code",
      "source": [
        "#Sampling Distribution Based on Mean\n",
        "\n",
        "\n",
        "sample_size = 35\n",
        "sample_mean = []\n",
        "\n",
        "for _ in range(2500):\n",
        "      cars_sample = cars_df['MPG'].sample(frac = sample_size/len(cars_df), replace = True)\n",
        "      sample_mean.append(np.mean(cars_sample))\n",
        "\n",
        "#Print\n",
        "print(sample_mean)\n",
        "print(f\"Mean: {np.mean(sample_mean)} \\n\")\n",
        "\n",
        "plt.hist(sample_mean, bins = 100, density = True)\n",
        "plt.xlabel('Mean of Samples')\n",
        "plt.ylabel('Density')\n",
        "\n",
        "\n"
      ],
      "metadata": {
        "id": "BuoCJ9WwPxMt",
        "colab": {
          "base_uri": "https://localhost:8080/",
          "height": 368
        },
        "outputId": "9c6abeda-1de7-4282-904f-49890cffac26"
      },
      "execution_count": 18,
      "outputs": [
        {
          "output_type": "stream",
          "name": "stdout",
          "text": [
            "[22.857142857142858, 21.494285714285713, 22.63714285714286, 22.751428571428573, 22.982857142857146, 22.488571428571426, 23.99142857142857, 23.997142857142858, 23.954285714285714, 22.445714285714285, 23.494285714285713, 26.502857142857142, 26.000000000000004, 22.537142857142857, 21.482857142857142, 21.654285714285717, 21.037142857142857, 22.568571428571428, 21.965714285714284, 21.914285714285715, 22.665714285714287, 24.917142857142853, 25.062857142857144, 25.422857142857143, 21.988571428571426, 21.720000000000002, 23.98857142857143, 24.625714285714288, 24.705714285714286, 22.854285714285712, 25.75142857142857, 23.21142857142857, 22.40857142857143, 24.028571428571432, 23.662857142857142, 23.00857142857143, 22.079999999999995, 24.751428571428573, 24.091428571428573, 20.754285714285718, 24.68, 22.740000000000002, 22.728571428571428, 23.211428571428566, 23.425714285714285, 23.234285714285715, 23.300000000000004, 25.74, 23.494285714285713, 23.60571428571429, 22.534285714285712, 24.42857142857143, 20.234285714285715, 22.914285714285715, 23.754285714285718, 22.954285714285714, 24.951428571428572, 20.50571428571429, 23.00571428571429, 23.571428571428573, 22.997142857142858, 24.677142857142858, 23.36, 23.125714285714288, 20.928571428571427, 25.54571428571428, 23.617142857142863, 24.62571428571429, 25.74571428571428, 24.362857142857145, 25.071428571428573, 23.73428571428571, 23.305714285714288, 25.774285714285718, 25.242857142857144, 23.248571428571427, 23.979999999999997, 21.928571428571427, 24.44571428571429, 23.82, 23.285714285714285, 25.16, 23.45714285714286, 22.580000000000002, 23.217142857142857, 23.36857142857143, 24.014285714285716, 23.44285714285714, 25.642857142857142, 22.985714285714284, 22.86571428571428, 24.197142857142858, 21.737142857142864, 21.56571428571429, 24.50857142857143, 22.78857142857143, 24.060000000000002, 25.742857142857144, 21.09142857142857, 20.697142857142858, 25.30857142857143, 21.951428571428572, 22.24857142857143, 25.037142857142857, 25.47428571428571, 21.282857142857143, 24.254285714285718, 24.231428571428577, 23.085714285714285, 22.24571428571429, 25.537142857142857, 24.542857142857144, 23.317142857142862, 24.46, 24.61714285714286, 22.914285714285718, 25.671428571428574, 24.414285714285718, 22.677142857142858, 23.174285714285716, 22.82857142857143, 21.505714285714287, 25.080000000000002, 21.614285714285714, 24.288571428571434, 23.637142857142855, 24.12857142857143, 23.28857142857143, 26.837142857142855, 24.86, 22.457142857142856, 22.245714285714286, 22.3, 20.994285714285713, 23.119999999999994, 21.714285714285715, 22.911428571428573, 24.845714285714283, 22.797142857142855, 24.52, 23.751428571428573, 20.95142857142857, 24.451428571428572, 21.654285714285717, 25.66857142857143, 23.842857142857138, 23.53428571428572, 23.034285714285712, 24.07428571428571, 21.81142857142857, 23.134285714285713, 25.31142857142857, 23.08, 23.47142857142857, 21.757142857142853, 22.945714285714285, 24.085714285714285, 22.457142857142856, 24.002857142857142, 24.534285714285712, 24.505714285714284, 23.725714285714286, 22.325714285714284, 23.217142857142854, 22.062857142857144, 25.574285714285715, 21.337142857142855, 26.537142857142854, 24.357142857142858, 24.185714285714287, 23.071428571428573, 22.137142857142862, 22.340000000000003, 24.580000000000002, 26.277142857142856, 24.111428571428572, 22.117142857142856, 21.51142857142857, 22.09142857142857, 24.728571428571428, 20.965714285714288, 24.997142857142858, 23.874285714285715, 24.482857142857146, 21.419999999999998, 24.45142857142857, 23.474285714285713, 23.05428571428571, 25.265714285714285, 21.905714285714286, 20.87142857142857, 23.922857142857143, 23.42285714285714, 24.185714285714283, 23.72857142857143, 21.477142857142855, 25.651428571428575, 21.52285714285714, 23.94571428571428, 24.359999999999996, 22.939999999999998, 23.262857142857143, 24.28, 23.360000000000003, 21.617142857142856, 22.405714285714286, 22.002857142857142, 23.92, 21.091428571428573, 21.745714285714286, 23.422857142857147, 23.81714285714286, 23.560000000000002, 25.048571428571428, 25.28857142857143, 25.03428571428572, 26.151428571428575, 25.677142857142858, 25.674285714285716, 24.36, 26.174285714285713, 23.400000000000002, 22.545714285714283, 24.06285714285714, 24.145714285714284, 24.160000000000004, 23.13714285714286, 24.537142857142857, 25.619999999999997, 20.582857142857144, 21.8, 24.217142857142857, 23.305714285714288, 23.32, 22.19428571428571, 23.999999999999996, 25.74, 23.28857142857143, 21.937142857142856, 24.182857142857145, 24.800000000000004, 23.485714285714284, 23.42, 22.125714285714288, 21.551428571428566, 22.865714285714287, 22.999999999999996, 24.640000000000004, 21.745714285714286, 24.402857142857144, 22.19714285714286, 25.085714285714285, 22.311428571428575, 22.465714285714284, 25.377142857142854, 20.41142857142857, 24.677142857142858, 23.66857142857143, 25.128571428571426, 23.022857142857145, 24.379999999999995, 24.06285714285714, 22.71714285714286, 22.785714285714285, 25.611428571428576, 23.5, 23.877142857142854, 24.354285714285712, 23.771428571428576, 25.37428571428572, 23.77142857142857, 23.274285714285714, 23.868571428571432, 23.77428571428571, 25.022857142857145, 25.282857142857143, 24.49142857142857, 21.70571428571429, 21.297142857142855, 21.94857142857143, 22.34, 23.017142857142854, 24.60571428571429, 22.634285714285717, 25.78285714285714, 24.754285714285718, 23.419999999999998, 21.051428571428573, 21.017142857142858, 24.78571428571428, 22.302857142857142, 23.937142857142856, 24.500000000000004, 23.56285714285714, 22.505714285714287, 24.21428571428571, 25.49428571428571, 22.868571428571425, 21.65142857142857, 21.411428571428573, 21.974285714285713, 21.094285714285718, 23.414285714285715, 23.277142857142856, 24.942857142857143, 24.15714285714286, 24.814285714285713, 25.382857142857144, 23.705714285714286, 24.854285714285716, 22.145714285714288, 23.725714285714286, 24.259999999999998, 23.22, 23.58571428571429, 24.51142857142857, 23.748571428571427, 24.51428571428571, 22.014285714285716, 22.214285714285715, 24.15428571428571, 23.54857142857143, 24.088571428571427, 23.671428571428574, 22.471428571428575, 23.22, 22.271428571428572, 22.248571428571434, 26.042857142857144, 21.49142857142857, 24.411428571428573, 22.554285714285715, 24.511428571428574, 24.81142857142857, 22.24, 22.93714285714286, 24.380000000000003, 23.962857142857143, 21.720000000000002, 22.848571428571425, 24.385714285714286, 25.92, 23.10857142857143, 25.674285714285716, 23.82857142857143, 24.728571428571424, 24.554285714285715, 21.917142857142856, 24.408571428571438, 25.84285714285714, 24.27714285714286, 25.074285714285715, 24.040000000000003, 23.42, 22.89714285714286, 23.037142857142857, 23.891428571428577, 22.43142857142857, 24.562857142857148, 22.49142857142857, 24.75142857142857, 22.47714285714286, 23.960000000000004, 26.288571428571434, 24.191428571428567, 22.997142857142858, 23.017142857142854, 25.037142857142857, 22.428571428571427, 23.30857142857143, 23.8, 26.385714285714286, 25.042857142857144, 24.834285714285716, 23.354285714285712, 23.73428571428571, 22.674285714285716, 21.722857142857144, 22.719999999999995, 22.82, 22.88285714285714, 19.26571428571429, 25.014285714285716, 23.431428571428572, 21.345714285714287, 23.777142857142856, 21.39714285714286, 25.060000000000002, 24.794285714285714, 25.505714285714287, 21.357142857142858, 23.874285714285715, 23.63142857142857, 22.985714285714284, 23.88285714285714, 21.282857142857146, 24.36857142857143, 23.50857142857143, 23.50857142857143, 25.18285714285714, 24.162857142857145, 23.354285714285716, 23.245714285714286, 26.05142857142857, 24.091428571428573, 24.691428571428574, 23.788571428571426, 24.657142857142855, 21.34, 23.911428571428573, 24.045714285714286, 24.228571428571428, 27.222857142857148, 22.74571428571429, 20.917142857142853, 22.902857142857144, 21.22285714285714, 22.542857142857144, 23.89714285714286, 24.06571428571429, 23.314285714285713, 23.44857142857143, 26.08857142857143, 23.011428571428574, 23.271428571428572, 23.868571428571432, 21.939999999999998, 20.828571428571433, 25.034285714285716, 24.082857142857147, 23.325714285714284, 22.625714285714288, 23.15714285714286, 22.788571428571426, 22.677142857142854, 24.705714285714286, 21.585714285714282, 21.94571428571429, 25.708571428571428, 23.448571428571427, 23.39428571428572, 25.162857142857145, 22.742857142857144, 25.47714285714285, 21.194285714285712, 20.91142857142857, 25.948571428571427, 20.742857142857144, 24.160000000000004, 24.12857142857143, 22.08857142857143, 22.26571428571429, 20.04571428571429, 23.085714285714285, 25.005714285714284, 25.154285714285713, 21.005714285714284, 23.851428571428574, 22.917142857142856, 22.054285714285715, 22.545714285714286, 23.025714285714287, 25.19142857142857, 23.291428571428572, 21.8, 24.148571428571433, 22.862857142857145, 23.72, 23.954285714285717, 24.488571428571426, 21.96285714285714, 22.31142857142857, 23.560000000000002, 23.771428571428572, 23.13142857142857, 22.142857142857146, 22.462857142857143, 22.971428571428568, 24.48, 23.377142857142857, 23.32285714285714, 24.891428571428573, 22.742857142857144, 24.511428571428574, 24.097142857142853, 23.41714285714286, 25.697142857142854, 22.285714285714285, 25.185714285714283, 22.34285714285714, 23.46857142857143, 23.02, 25.068571428571428, 22.81428571428571, 21.51142857142857, 24.457142857142856, 22.88, 23.128571428571433, 24.340000000000003, 23.040000000000003, 23.271428571428576, 23.27428571428571, 25.140000000000004, 23.24857142857143, 20.768571428571427, 23.917142857142853, 23.637142857142855, 22.031428571428574, 23.157142857142855, 21.022857142857145, 24.474285714285717, 21.28571428571429, 24.42, 21.54857142857143, 23.202857142857148, 24.820000000000004, 23.279999999999998, 25.44857142857143, 25.28571428571428, 22.882857142857137, 21.22571428571429, 23.245714285714282, 23.642857142857142, 22.439999999999998, 24.90285714285714, 21.497142857142858, 22.122857142857143, 25.31142857142857, 22.6, 20.388571428571428, 21.994285714285716, 23.67142857142857, 20.354285714285712, 21.877142857142854, 26.43428571428571, 23.554285714285715, 23.337142857142858, 24.30857142857143, 22.037142857142857, 22.000000000000004, 22.348571428571425, 25.64857142857143, 23.234285714285715, 24.26571428571429, 24.954285714285717, 23.36857142857143, 22.74, 22.44, 23.177142857142858, 23.905714285714282, 23.091428571428573, 23.680000000000003, 22.688571428571432, 21.537142857142857, 24.108571428571427, 25.319999999999997, 22.791428571428575, 24.125714285714288, 24.440000000000005, 26.34571428571429, 24.539999999999996, 24.52857142857143, 21.60285714285714, 23.788571428571434, 25.477142857142862, 22.185714285714287, 24.985714285714284, 24.717142857142857, 21.279999999999998, 21.72285714285714, 25.02857142857143, 23.08857142857143, 23.525714285714287, 23.874285714285715, 23.3, 24.33428571428572, 20.525714285714287, 22.87142857142857, 26.662857142857145, 22.254285714285718, 24.779999999999998, 23.714285714285715, 23.819999999999997, 24.697142857142854, 23.094285714285714, 24.8, 23.757142857142856, 22.485714285714288, 24.765714285714292, 23.482857142857142, 26.931428571428572, 22.834285714285716, 23.28571428571429, 24.294285714285717, 24.96571428571429, 23.822857142857146, 24.645714285714288, 23.83142857142857, 21.791428571428572, 22.399999999999995, 25.000000000000007, 22.791428571428572, 23.41428571428571, 24.462857142857143, 23.022857142857145, 24.205714285714286, 23.248571428571434, 22.65142857142857, 24.060000000000002, 22.345714285714283, 24.517142857142854, 23.597142857142856, 23.902857142857144, 24.18571428571429, 25.534285714285712, 23.24571428571429, 23.611428571428572, 21.74571428571429, 22.880000000000003, 25.49428571428572, 23.534285714285712, 24.86857142857143, 24.877142857142854, 23.022857142857145, 26.020000000000003, 25.01714285714286, 23.082857142857144, 24.562857142857144, 20.24, 22.94285714285714, 24.094285714285718, 24.26571428571429, 23.18285714285714, 24.831428571428575, 24.794285714285714, 22.63142857142857, 25.02, 22.811428571428568, 22.037142857142857, 22.488571428571426, 23.68857142857143, 24.068571428571428, 25.365714285714283, 22.322857142857142, 24.580000000000002, 21.737142857142857, 23.66857142857143, 24.388571428571428, 24.442857142857147, 22.834285714285716, 22.457142857142856, 24.02857142857143, 27.14, 20.568571428571428, 22.080000000000002, 23.12, 23.305714285714288, 23.91428571428571, 24.84571428571429, 24.085714285714285, 22.725714285714282, 20.911428571428573, 22.70857142857143, 26.174285714285716, 22.694285714285712, 21.994285714285713, 22.90857142857143, 24.937142857142856, 21.68571428571429, 22.799999999999997, 22.057142857142857, 26.07714285714286, 25.754285714285714, 22.468571428571426, 20.61428571428571, 24.465714285714288, 24.22285714285714, 22.542857142857144, 23.52, 24.222857142857144, 21.931428571428572, 23.097142857142853, 24.308571428571423, 23.54, 23.877142857142854, 22.76571428571429, 25.46, 22.060000000000002, 22.631428571428575, 23.07714285714286, 23.99142857142857, 22.77428571428571, 23.382857142857144, 24.72285714285714, 21.5, 22.840000000000003, 23.045714285714286, 23.54, 23.297142857142855, 25.328571428571433, 24.568571428571428, 24.757142857142856, 22.99142857142857, 23.805714285714288, 23.017142857142858, 23.774285714285718, 24.274285714285714, 24.39142857142857, 22.542857142857144, 21.999999999999996, 24.197142857142858, 25.45142857142857, 24.037142857142857, 21.954285714285714, 25.742857142857144, 21.562857142857144, 22.074285714285715, 21.68857142857143, 26.431428571428572, 21.645714285714288, 24.319999999999997, 23.18, 24.522857142857145, 21.545714285714286, 24.211428571428566, 25.42285714285714, 24.96857142857143, 22.62857142857143, 22.405714285714282, 25.59142857142857, 23.025714285714287, 23.748571428571427, 25.16, 23.877142857142857, 21.691428571428574, 23.785714285714285, 23.228571428571428, 24.23428571428571, 23.865714285714287, 24.445714285714285, 21.754285714285718, 23.005714285714287, 23.71142857142857, 25.20285714285714, 25.09714285714286, 22.740000000000002, 24.482857142857146, 22.954285714285714, 22.02, 20.845714285714287, 22.945714285714285, 23.317142857142855, 24.55142857142857, 24.737142857142857, 24.54, 24.477142857142855, 22.345714285714287, 23.582857142857144, 26.222857142857148, 22.802857142857142, 23.740000000000002, 22.214285714285715, 23.602857142857143, 23.67142857142857, 22.92285714285714, 23.22285714285714, 22.439999999999998, 21.622857142857146, 25.64571428571429, 24.242857142857147, 23.068571428571424, 25.848571428571425, 23.19714285714286, 23.08857142857143, 22.545714285714283, 23.28285714285714, 24.165714285714284, 23.931428571428576, 23.251428571428573, 23.47714285714286, 25.27714285714286, 24.837142857142855, 23.36857142857143, 25.611428571428576, 24.842857142857145, 24.894285714285715, 26.560000000000002, 23.45428571428572, 24.062857142857144, 23.845714285714287, 22.914285714285715, 23.888571428571428, 22.885714285714286, 23.28, 22.197142857142854, 22.13714285714286, 23.714285714285715, 23.52285714285714, 21.794285714285717, 23.16285714285715, 22.262857142857143, 22.779999999999998, 22.888571428571428, 22.314285714285713, 24.180000000000007, 23.36857142857143, 22.614285714285714, 24.831428571428567, 22.562857142857144, 25.168571428571433, 24.877142857142857, 24.665714285714287, 24.611428571428572, 23.568571428571428, 24.842857142857138, 24.87428571428572, 23.668571428571433, 24.891428571428573, 24.32, 24.642857142857142, 25.491428571428575, 21.737142857142857, 23.982857142857142, 22.21428571428572, 23.097142857142856, 23.18857142857143, 22.05714285714286, 24.04857142857143, 22.891428571428573, 23.279999999999998, 23.02, 21.862857142857145, 25.174285714285716, 22.76, 23.46, 23.134285714285717, 23.08857142857143, 23.908571428571427, 23.505714285714284, 24.891428571428573, 22.825714285714287, 22.805714285714284, 24.040000000000003, 23.751428571428573, 24.574285714285715, 21.662857142857142, 21.60857142857143, 24.194285714285712, 23.817142857142855, 22.897142857142857, 22.854285714285712, 24.211428571428574, 25.102857142857147, 25.77714285714286, 22.374285714285712, 22.725714285714293, 23.114285714285714, 27.56285714285714, 24.385714285714286, 22.55714285714286, 24.14285714285714, 24.648571428571426, 25.07714285714286, 21.97714285714286, 23.494285714285713, 23.582857142857144, 23.257142857142856, 22.922857142857143, 24.808571428571426, 25.514285714285716, 23.525714285714287, 26.325714285714284, 22.534285714285716, 22.26, 23.708571428571428, 23.939999999999998, 25.35714285714286, 21.865714285714287, 21.34, 25.8, 23.214285714285715, 21.46857142857143, 22.38, 23.868571428571432, 24.99142857142857, 19.928571428571427, 24.74857142857143, 21.994285714285716, 25.56571428571429, 23.16857142857143, 24.228571428571428, 21.505714285714287, 22.688571428571425, 20.894285714285715, 25.291428571428572, 23.64571428571429, 22.220000000000006, 22.762857142857143, 26.05428571428571, 25.697142857142858, 23.61428571428571, 24.731428571428573, 24.577142857142857, 22.23428571428571, 26.097142857142856, 24.302857142857142, 25.717142857142857, 23.640000000000004, 24.514285714285716, 26.354285714285712, 22.462857142857143, 25.191428571428574, 25.625714285714288, 24.517142857142858, 22.217142857142857, 25.31142857142857, 25.117142857142863, 23.314285714285713, 23.99714285714286, 22.84571428571429, 26.34571428571429, 22.645714285714284, 25.517142857142858, 23.731428571428573, 24.08571428571429, 24.74, 22.140000000000004, 24.14571428571429, 23.025714285714283, 25.237142857142857, 24.308571428571426, 23.43714285714286, 23.14857142857143, 24.34571428571429, 23.717142857142857, 23.717142857142854, 24.734285714285715, 22.782857142857146, 19.782857142857146, 23.96, 22.474285714285713, 23.017142857142854, 24.442857142857143, 21.22571428571429, 23.15428571428571, 23.365714285714287, 23.371428571428567, 23.508571428571425, 21.265714285714285, 25.185714285714294, 23.802857142857142, 24.98, 24.625714285714288, 24.42857142857143, 25.134285714285717, 24.902857142857147, 25.185714285714287, 24.32, 22.92285714285714, 22.720000000000002, 26.374285714285712, 23.24, 24.214285714285715, 22.211428571428574, 23.67142857142857, 23.677142857142854, 25.939999999999998, 22.580000000000002, 22.482857142857142, 24.994285714285713, 19.73428571428571, 23.00857142857143, 24.51714285714285, 23.854285714285716, 23.77714285714286, 24.38285714285714, 24.32857142857143, 24.708571428571435, 24.459999999999997, 25.497142857142858, 23.377142857142854, 23.134285714285717, 24.299999999999997, 25.445714285714285, 22.32571428571428, 21.959999999999997, 22.608571428571427, 22.47142857142857, 24.97714285714286, 24.194285714285716, 23.81714285714286, 23.337142857142858, 23.09714285714286, 22.12, 24.700000000000006, 25.220000000000002, 24.145714285714288, 26.505714285714287, 21.782857142857143, 23.097142857142856, 22.982857142857146, 25.302857142857142, 23.548571428571428, 20.788571428571426, 25.251428571428573, 21.434285714285714, 23.885714285714283, 24.299999999999997, 24.23428571428572, 25.717142857142854, 23.905714285714282, 23.031428571428574, 22.228571428571428, 25.24857142857143, 22.72285714285714, 19.97142857142857, 23.99142857142857, 23.054285714285715, 23.937142857142856, 22.234285714285715, 25.179999999999996, 25.09142857142857, 22.094285714285718, 22.42571428571429, 25.974285714285717, 22.502857142857142, 23.011428571428574, 23.880000000000003, 24.631428571428568, 23.334285714285716, 25.065714285714286, 22.628571428571433, 24.142857142857146, 23.585714285714285, 24.391428571428573, 22.474285714285713, 24.799999999999997, 25.405714285714282, 21.882857142857137, 23.06857142857143, 23.31714285714285, 21.885714285714286, 24.665714285714287, 22.714285714285715, 23.865714285714287, 23.97142857142857, 22.814285714285713, 24.988571428571426, 24.228571428571428, 24.23142857142857, 23.81714285714286, 25.67142857142857, 22.64857142857143, 24.828571428571426, 22.442857142857143, 22.208571428571428, 23.554285714285715, 23.68, 22.585714285714285, 23.17142857142857, 21.525714285714287, 23.205714285714286, 25.1, 21.682857142857145, 24.47142857142857, 22.085714285714285, 23.411428571428573, 23.620000000000005, 23.905714285714282, 23.76, 22.180000000000003, 23.885714285714283, 22.380000000000003, 23.717142857142857, 23.860000000000003, 23.694285714285716, 25.16, 23.68, 23.468571428571426, 22.354285714285712, 23.517142857142858, 24.16857142857143, 24.568571428571424, 24.294285714285714, 24.757142857142856, 25.09714285714286, 22.662857142857145, 22.77714285714286, 22.380000000000003, 22.682857142857145, 24.44857142857143, 24.12857142857143, 24.75142857142857, 22.937142857142856, 23.78, 23.12857142857143, 22.93142857142857, 21.61714285714286, 23.22571428571429, 25.0, 23.67714285714286, 22.148571428571426, 24.08857142857143, 24.822857142857142, 24.997142857142858, 24.094285714285718, 24.654285714285717, 21.845714285714287, 23.83142857142857, 25.26857142857143, 23.15142857142857, 23.048571428571428, 23.837142857142855, 20.385714285714286, 27.805714285714284, 22.614285714285717, 25.93714285714286, 23.720000000000002, 23.788571428571434, 23.042857142857144, 22.737142857142857, 23.622857142857143, 24.257142857142856, 21.685714285714287, 24.79714285714286, 25.38, 24.968571428571426, 23.048571428571428, 22.660000000000004, 24.231428571428573, 24.37142857142857, 22.72857142857143, 24.07428571428571, 22.77714285714286, 22.677142857142858, 22.531428571428574, 21.68857142857143, 23.834285714285713, 25.18285714285714, 25.740000000000002, 24.311428571428575, 22.60285714285714, 24.465714285714284, 23.522857142857145, 23.44857142857143, 23.597142857142856, 23.231428571428573, 23.54, 25.111428571428572, 24.374285714285712, 23.319999999999997, 25.22285714285714, 22.54857142857143, 21.442857142857143, 22.580000000000002, 23.76571428571429, 24.337142857142858, 25.58, 23.302857142857142, 22.037142857142857, 22.614285714285714, 22.67142857142857, 19.802857142857142, 21.7, 23.97714285714286, 23.545714285714283, 22.05142857142857, 23.40285714285714, 20.442857142857143, 22.571428571428573, 24.782857142857143, 24.205714285714286, 23.299999999999997, 23.68857142857143, 25.61714285714286, 23.011428571428574, 24.040000000000003, 24.240000000000002, 23.065714285714286, 23.054285714285715, 24.71428571428571, 22.928571428571427, 23.291428571428572, 21.874285714285715, 24.64, 21.51714285714286, 25.045714285714286, 23.988571428571426, 23.505714285714287, 21.74857142857143, 23.257142857142853, 21.451428571428572, 23.1, 21.391428571428573, 23.10571428571429, 24.08571428571429, 25.99142857142857, 22.7, 23.888571428571428, 23.4, 22.154285714285713, 21.334285714285713, 25.07714285714286, 25.228571428571428, 24.702857142857145, 23.00571428571429, 23.845714285714283, 21.82, 24.21714285714286, 23.28571428571429, 22.560000000000002, 23.754285714285718, 23.62, 24.202857142857148, 24.994285714285713, 23.725714285714286, 23.88285714285714, 24.75142857142857, 23.065714285714286, 21.565714285714286, 22.111428571428572, 21.90857142857143, 24.17142857142857, 23.314285714285713, 26.231428571428573, 21.274285714285714, 24.751428571428573, 22.00857142857143, 24.494285714285716, 22.880000000000003, 23.93142857142857, 22.374285714285715, 21.745714285714286, 23.04857142857143, 24.24285714285715, 24.002857142857142, 22.702857142857145, 22.425714285714285, 24.608571428571434, 23.871428571428574, 22.514285714285716, 25.03714285714286, 23.651428571428575, 22.359999999999996, 25.92, 23.63142857142857, 22.097142857142856, 22.55714285714286, 22.89142857142857, 21.46, 23.680000000000003, 23.822857142857142, 24.374285714285715, 22.582857142857147, 24.974285714285713, 22.87142857142857, 23.582857142857144, 22.04, 22.048571428571428, 22.92, 22.06571428571429, 23.98, 25.708571428571435, 24.197142857142858, 25.488571428571433, 23.29142857142857, 22.96571428571428, 24.071428571428573, 23.322857142857146, 24.60285714285714, 23.04857142857143, 21.057142857142857, 25.6, 23.948571428571427, 24.40857142857143, 24.42285714285715, 22.399999999999995, 25.34, 22.391428571428573, 22.111428571428576, 23.14285714285714, 22.917142857142856, 25.779999999999998, 22.04857142857143, 22.911428571428573, 24.882857142857144, 22.388571428571428, 21.04571428571429, 23.49142857142857, 21.948571428571427, 23.645714285714288, 23.91428571428571, 22.165714285714287, 23.357142857142858, 21.737142857142857, 24.168571428571433, 24.06571428571429, 24.054285714285715, 24.585714285714285, 23.288571428571426, 25.934285714285714, 24.06, 24.417142857142853, 23.534285714285716, 24.31142857142857, 20.81142857142857, 22.048571428571428, 22.47142857142857, 25.102857142857143, 24.279999999999998, 24.140000000000004, 23.86, 23.962857142857143, 23.057142857142857, 22.328571428571433, 23.23142857142857, 22.651428571428568, 22.671428571428574, 25.377142857142854, 24.420000000000005, 26.157142857142862, 24.354285714285716, 21.805714285714288, 25.582857142857147, 23.377142857142857, 23.048571428571428, 25.27142857142857, 23.037142857142857, 24.725714285714282, 25.11714285714286, 22.914285714285718, 23.451428571428572, 23.305714285714288, 24.48857142857143, 20.554285714285715, 23.26571428571429, 24.337142857142858, 22.797142857142855, 24.225714285714286, 24.442857142857143, 20.782857142857143, 23.06, 23.02, 24.14, 23.802857142857142, 23.21428571428571, 24.108571428571427, 22.845714285714287, 22.874285714285712, 20.825714285714284, 25.025714285714287, 25.625714285714288, 22.38571428571429, 22.614285714285714, 24.037142857142857, 21.974285714285713, 23.78857142857143, 22.89142857142857, 23.402857142857144, 23.485714285714284, 23.071428571428573, 21.46, 23.857142857142858, 22.377142857142854, 23.262857142857147, 24.977142857142855, 25.114285714285714, 23.174285714285716, 24.697142857142858, 23.045714285714286, 21.81428571428571, 21.954285714285714, 23.07428571428572, 22.57714285714286, 22.30857142857143, 22.754285714285718, 23.39142857142857, 22.731428571428573, 23.29714285714286, 24.80857142857143, 21.834285714285716, 19.565714285714286, 21.177142857142858, 24.34285714285714, 20.69714285714286, 21.985714285714284, 24.02571428571429, 23.159999999999997, 22.39142857142857, 24.54, 24.04285714285714, 23.051428571428573, 23.228571428571424, 25.491428571428575, 25.04, 22.177142857142854, 24.017142857142858, 21.762857142857143, 23.697142857142858, 21.062857142857144, 24.985714285714284, 23.005714285714287, 22.554285714285715, 24.434285714285714, 22.06857142857143, 23.525714285714287, 23.728571428571428, 21.19142857142857, 22.51142857142857, 24.865714285714283, 20.654285714285717, 21.93714285714286, 23.60571428571429, 22.84285714285714, 23.46857142857143, 23.83142857142857, 25.468571428571433, 24.8, 23.057142857142857, 20.88, 23.32, 23.142857142857146, 22.471428571428575, 24.054285714285715, 23.26857142857143, 23.625714285714288, 21.162857142857142, 23.671428571428567, 22.03428571428572, 24.028571428571432, 22.608571428571423, 25.094285714285718, 21.962857142857143, 24.065714285714282, 23.417142857142856, 21.162857142857145, 24.93714285714286, 22.585714285714282, 23.95714285714286, 22.711428571428577, 23.465714285714288, 24.757142857142856, 23.228571428571428, 22.097142857142856, 23.59714285714286, 25.454285714285717, 24.122857142857146, 23.35142857142857, 23.814285714285713, 24.35142857142857, 26.28, 25.977142857142855, 26.114285714285714, 25.28, 26.35142857142857, 25.154285714285717, 23.234285714285715, 22.628571428571426, 23.962857142857143, 23.722857142857144, 22.23142857142857, 20.085714285714285, 24.220000000000002, 22.511428571428574, 24.488571428571433, 22.308571428571426, 21.537142857142857, 22.0, 22.68285714285714, 21.928571428571427, 24.21142857142857, 23.571428571428573, 22.585714285714285, 22.52, 23.68285714285714, 23.242857142857144, 22.745714285714286, 23.56571428571429, 25.27428571428571, 25.04857142857143, 25.868571428571432, 23.96, 24.708571428571425, 22.46, 22.77428571428571, 23.471428571428568, 23.29142857142857, 25.148571428571426, 24.32, 22.614285714285717, 25.099999999999998, 23.79142857142857, 23.994285714285716, 24.9, 22.885714285714286, 23.617142857142863, 23.357142857142858, 23.654285714285717, 24.688571428571425, 26.117142857142863, 21.74857142857143, 21.50857142857143, 27.014285714285716, 22.965714285714284, 26.071428571428573, 24.611428571428572, 22.691428571428574, 22.997142857142858, 21.931428571428576, 22.474285714285713, 20.382857142857144, 23.86, 20.62857142857143, 22.98, 25.217142857142857, 24.925714285714285, 23.199999999999996, 23.57428571428571, 24.502857142857142, 21.928571428571427, 22.602857142857147, 23.037142857142857, 23.220000000000002, 22.782857142857146, 25.548571428571428, 22.434285714285714, 23.74857142857143, 22.497142857142858, 26.148571428571426, 22.902857142857144, 21.26285714285714, 25.088571428571427, 21.462857142857143, 23.048571428571428, 23.297142857142855, 24.382857142857144, 23.420000000000005, 23.397142857142857, 23.171428571428567, 20.717142857142857, 23.248571428571427, 22.774285714285714, 23.34857142857143, 23.631428571428568, 21.220000000000002, 22.70857142857143, 24.974285714285713, 22.045714285714286, 24.322857142857146, 24.05714285714286, 25.308571428571426, 23.19714285714286, 24.451428571428572, 24.594285714285718, 22.962857142857143, 23.962857142857143, 22.894285714285715, 23.014285714285712, 22.16857142857143, 23.09142857142857, 23.634285714285713, 22.405714285714286, 23.594285714285718, 25.205714285714286, 23.83714285714285, 24.542857142857144, 20.931428571428576, 22.93714285714286, 21.665714285714284, 22.962857142857143, 25.005714285714287, 23.439999999999998, 24.26, 22.29428571428572, 22.965714285714288, 24.005714285714284, 27.342857142857138, 25.340000000000003, 25.08, 23.31714285714286, 21.931428571428572, 24.142857142857142, 23.937142857142856, 24.14, 23.380000000000003, 19.708571428571428, 23.288571428571434, 25.44857142857143, 24.574285714285715, 22.165714285714287, 24.482857142857142, 22.50857142857143, 22.27714285714286, 21.025714285714287, 23.037142857142857, 23.634285714285717, 23.12857142857143, 24.740000000000002, 25.742857142857144, 23.2, 25.49428571428572, 22.825714285714284, 24.34, 23.797142857142852, 24.07428571428571, 22.385714285714286, 22.311428571428575, 24.611428571428572, 25.922857142857147, 26.59142857142857, 25.602857142857147, 25.18571428571429, 21.877142857142857, 24.96857142857143, 22.834285714285716, 22.042857142857144, 22.36571428571428, 22.931428571428572, 22.674285714285716, 19.56857142857143, 22.16857142857143, 22.602857142857143, 25.2, 22.668571428571433, 23.985714285714284, 22.108571428571427, 25.414285714285715, 22.86571428571428, 22.948571428571427, 24.111428571428576, 23.29714285714286, 23.277142857142863, 24.50857142857143, 24.68285714285714, 22.862857142857145, 25.30857142857143, 21.988571428571426, 21.3, 23.431428571428572, 24.945714285714285, 23.177142857142858, 23.648571428571426, 21.917142857142856, 21.522857142857145, 21.76857142857143, 22.21428571428571, 23.040000000000003, 23.965714285714284, 24.580000000000002, 23.414285714285715, 22.740000000000002, 25.545714285714286, 25.445714285714285, 22.905714285714286, 21.465714285714284, 21.877142857142854, 24.431428571428565, 20.69714285714286, 25.36857142857143, 26.285714285714285, 24.645714285714288, 23.071428571428573, 20.811428571428575, 24.648571428571426, 24.437142857142856, 24.165714285714284, 26.13142857142857, 22.857142857142858, 22.92857142857143, 25.17142857142857, 23.834285714285713, 23.22, 22.617142857142863, 24.062857142857144, 22.528571428571432, 23.07714285714286, 25.231428571428573, 24.462857142857143, 23.04857142857143, 20.899999999999995, 22.531428571428574, 23.757142857142856, 23.28857142857143, 22.877142857142857, 23.66, 23.74, 22.279999999999998, 23.36285714285715, 22.474285714285717, 25.508571428571425, 23.614285714285714, 25.18857142857143, 23.414285714285715, 21.571428571428573, 23.137142857142855, 25.04, 22.114285714285714, 24.425714285714285, 22.880000000000006, 22.76857142857143, 24.262857142857143, 24.54857142857143, 23.54857142857143, 24.294285714285717, 22.065714285714286, 25.660000000000004, 23.754285714285714, 25.634285714285713, 24.737142857142857, 22.11142857142857, 23.93428571428571, 22.985714285714284, 22.65714285714286, 22.222857142857144, 22.84571428571429, 23.84571428571429, 21.47142857142857, 25.277142857142863, 21.845714285714283, 23.24857142857143, 22.105714285714285, 24.302857142857142, 22.828571428571433, 24.50571428571429, 25.054285714285715, 23.11714285714286, 22.377142857142854, 23.411428571428573, 22.08571428571429, 22.70857142857143, 23.63142857142857, 22.73714285714286, 23.19714285714286, 24.705714285714283, 25.27714285714286, 24.97142857142857, 22.322857142857146, 21.688571428571425, 24.02285714285714, 23.405714285714286, 24.100000000000005, 22.762857142857143, 24.04857142857143, 21.95428571428571, 23.39714285714286, 23.29714285714286, 23.811428571428575, 23.768571428571427, 24.899999999999995, 24.66857142857143, 25.254285714285718, 23.857142857142858, 23.162857142857145, 24.720000000000002, 21.785714285714285, 24.0, 22.52857142857143, 20.22571428571429, 24.68857142857143, 21.234285714285715, 25.691428571428574, 21.9, 23.782857142857143, 25.722857142857144, 23.87714285714286, 25.531428571428574, 24.168571428571433, 22.871428571428574, 24.245714285714286, 22.802857142857142, 21.21428571428572, 24.67142857142857, 22.817142857142862, 24.925714285714285, 25.202857142857148, 21.66857142857143, 22.585714285714285, 22.357142857142858, 21.49142857142857, 24.385714285714286, 23.78, 22.997142857142858, 22.128571428571426, 23.597142857142856, 24.494285714285713, 22.88571428571429, 23.64857142857143, 23.537142857142857, 23.31714285714286, 21.1, 23.19142857142857, 22.634285714285717, 24.84, 25.091428571428573, 24.8, 25.01142857142857, 22.771428571428572, 27.00571428571429, 22.497142857142858, 20.251428571428573, 23.248571428571434, 25.48, 22.274285714285714, 24.685714285714283, 23.32857142857143, 24.8, 25.55142857142857, 23.505714285714284, 22.928571428571427, 25.29714285714286, 22.622857142857143, 23.86857142857143, 23.857142857142858, 27.271428571428572, 26.86571428571428, 21.72571428571429, 22.265714285714285, 23.885714285714286, 26.451428571428572, 21.58571428571429, 23.95714285714286, 23.64, 21.774285714285718, 23.202857142857145, 24.134285714285717, 24.805714285714284, 21.774285714285714, 26.082857142857147, 22.602857142857143, 21.874285714285712, 23.042857142857144, 21.83142857142857, 21.328571428571433, 24.934285714285714, 24.731428571428573, 23.734285714285715, 23.56, 24.60571428571429, 21.871428571428574, 23.14, 23.434285714285714, 21.282857142857146, 23.125714285714285, 23.877142857142857, 24.697142857142858, 23.634285714285717, 26.537142857142857, 23.337142857142855, 21.240000000000002, 23.977142857142855, 24.825714285714287, 22.114285714285717, 24.134285714285717, 24.057142857142857, 23.954285714285717, 22.27714285714286, 24.008571428571425, 23.934285714285714, 23.16857142857143, 22.88571428571429, 23.291428571428572, 23.72571428571429, 24.034285714285716, 22.439999999999998, 27.794285714285717, 23.985714285714284, 21.668571428571433, 24.4, 21.98, 23.031428571428574, 21.017142857142858, 24.86857142857143, 22.54857142857143, 24.217142857142857, 24.162857142857145, 21.154285714285713, 23.837142857142855, 23.314285714285717, 23.551428571428566, 24.165714285714284, 23.305714285714295, 23.10571428571429, 23.86285714285714, 24.279999999999998, 23.374285714285712, 22.674285714285716, 24.39428571428571, 22.98857142857143, 26.242857142857144, 24.351428571428574, 23.145714285714288, 21.98, 21.837142857142858, 22.242857142857144, 21.445714285714285, 21.98857142857143, 24.44571428571429, 22.56571428571429, 22.337142857142855, 22.685714285714283, 22.031428571428567, 23.974285714285713, 23.597142857142856, 22.714285714285722, 21.75428571428571, 23.994285714285713, 25.634285714285713, 24.294285714285717, 23.22857142857143, 22.442857142857143, 20.34285714285714, 24.762857142857143, 22.028571428571432, 22.302857142857146, 25.194285714285716, 23.388571428571428, 21.868571428571432, 22.562857142857144, 23.02, 23.182857142857145, 25.24571428571429, 22.365714285714287, 25.125714285714288, 24.365714285714287, 22.085714285714285, 22.140000000000004, 23.617142857142856, 23.817142857142855, 25.11714285714286, 24.514285714285716, 21.974285714285713, 23.08, 23.665714285714284, 24.419999999999998, 23.282857142857143, 25.165714285714287, 27.38571428571429, 23.085714285714285, 22.237142857142857, 20.514285714285716, 21.165714285714284, 22.98, 22.442857142857143, 22.365714285714283, 23.774285714285718, 24.528571428571425, 24.082857142857144, 25.72, 20.957142857142856, 23.294285714285714, 23.742857142857144, 24.005714285714287, 24.47714285714286, 21.97714285714286, 23.459999999999997, 22.971428571428575, 21.585714285714285, 25.874285714285712, 23.36857142857143, 21.56285714285714, 23.10571428571429, 23.32857142857143, 21.271428571428572, 23.917142857142856, 23.60571428571429, 23.91714285714286, 27.297142857142855, 24.148571428571422, 23.860000000000003, 25.665714285714287, 25.37142857142857, 22.125714285714288, 22.217142857142854, 21.991428571428575, 24.668571428571425, 23.38, 22.222857142857148, 20.98857142857143, 22.494285714285716, 23.417142857142856, 27.63714285714285, 22.285714285714285, 23.654285714285713, 24.105714285714285, 25.12857142857143, 24.565714285714286, 23.122857142857143, 22.991428571428575, 23.122857142857143, 21.891428571428577, 22.071428571428573, 24.031428571428574, 24.52, 23.76571428571429, 22.848571428571425, 23.54, 24.668571428571425, 22.462857142857143, 25.228571428571428, 22.22571428571429, 22.731428571428573, 23.854285714285716, 22.517142857142858, 24.017142857142858, 22.345714285714283, 24.348571428571432, 22.037142857142857, 22.328571428571426, 25.48857142857143, 24.751428571428573, 22.84, 25.822857142857146, 24.11428571428571, 24.44857142857143, 24.222857142857148, 23.102857142857147, 22.374285714285715, 21.90571428571429, 22.851428571428574, 24.477142857142862, 22.60571428571429, 24.66285714285715, 22.24571428571429, 22.208571428571428, 22.960000000000004, 22.822857142857146, 22.585714285714285, 24.61714285714286, 23.497142857142858, 24.488571428571433, 22.30857142857143, 22.16285714285715, 23.442857142857136, 22.665714285714287, 24.759999999999998, 22.34, 20.888571428571424, 24.682857142857145, 25.017142857142858, 24.96571428571429, 21.791428571428572, 25.562857142857144, 26.25714285714286, 24.69714285714286, 23.294285714285717, 24.254285714285718, 24.245714285714286, 25.754285714285714, 24.65428571428571, 21.260000000000005, 23.525714285714287, 23.845714285714283, 24.288571428571434, 20.64, 23.12571428571429, 23.457142857142856, 22.59428571428571, 23.88285714285714, 23.768571428571423, 24.50857142857143, 24.877142857142854, 24.02285714285714, 23.740000000000002, 23.180000000000007, 21.465714285714288, 24.005714285714287, 24.731428571428573, 21.477142857142855, 21.645714285714288, 23.811428571428575, 24.531428571428567, 22.497142857142858, 22.65714285714285, 23.665714285714287, 22.439999999999998, 24.208571428571425, 23.768571428571427, 23.56285714285714, 23.151428571428575, 24.865714285714283, 23.625714285714285, 23.74857142857143, 23.065714285714286, 20.548571428571428, 21.75142857142857, 22.731428571428573, 22.514285714285716, 24.851428571428574, 23.48857142857143, 24.317142857142866, 25.571428571428573, 21.89714285714286, 22.76, 24.79142857142857, 23.551428571428573, 23.385714285714286, 24.028571428571432, 23.111428571428576, 24.42571428571428, 23.685714285714287, 22.757142857142856, 20.537142857142857, 24.342857142857145, 26.40285714285714, 23.91142857142857, 24.417142857142856, 25.32857142857143, 23.691428571428574, 23.414285714285718, 21.005714285714284, 24.457142857142856, 25.002857142857142, 23.845714285714283, 22.557142857142857, 21.568571428571428, 24.551428571428573, 23.205714285714286, 22.87142857142857, 24.534285714285716, 22.159999999999997, 24.254285714285714, 23.599999999999998, 23.43714285714286, 22.760000000000005, 23.034285714285716, 21.468571428571426, 22.611428571428572, 21.91142857142857, 25.56, 23.80571428571429, 27.079999999999995, 24.505714285714287, 21.07142857142857, 24.142857142857142, 24.682857142857145, 23.242857142857144, 22.268571428571423, 24.711428571428574, 23.017142857142858, 21.720000000000002, 26.800000000000004, 23.080000000000002, 22.497142857142858, 22.77714285714286, 25.90285714285714, 23.1, 23.740000000000006, 23.279999999999994, 22.62857142857143, 26.205714285714286, 24.080000000000002, 23.485714285714284, 25.525714285714287, 22.877142857142854, 23.902857142857144, 25.122857142857143, 24.094285714285718, 24.02285714285715, 23.759999999999998, 26.117142857142856, 24.799999999999997, 20.834285714285716, 24.911428571428576, 24.38285714285714, 22.708571428571428, 25.831428571428575, 24.642857142857146, 23.300000000000008, 22.554285714285715, 24.699999999999996, 21.971428571428575, 26.417142857142856, 22.200000000000003, 22.42571428571429, 23.28, 25.145714285714288, 21.27714285714286, 23.365714285714287, 23.611428571428576, 22.505714285714287, 21.854285714285712, 24.06285714285714, 24.08571428571429, 20.17428571428572, 23.659999999999997, 23.871428571428574, 24.240000000000002, 25.78571428571429, 24.100000000000005, 22.66, 23.634285714285717, 23.851428571428574, 23.78857142857143, 24.42857142857143, 25.594285714285718, 24.98285714285714, 25.02285714285714, 23.63428571428572, 22.11142857142857, 24.254285714285718, 24.2, 24.465714285714288, 24.917142857142856, 24.537142857142857, 22.222857142857144, 23.06857142857143, 20.285714285714285, 23.72857142857143, 22.64, 23.93142857142857, 22.08, 22.95428571428571, 23.442857142857143, 25.542857142857144, 22.962857142857143, 24.014285714285716, 25.037142857142857, 24.67714285714286, 26.025714285714287, 24.474285714285713, 23.837142857142855, 24.891428571428577, 25.02857142857143, 22.631428571428568, 22.46857142857143, 25.025714285714287, 22.814285714285713, 22.928571428571427, 22.30571428571429, 23.66285714285715, 23.057142857142857, 25.671428571428574, 23.025714285714283, 22.64857142857143, 19.06571428571429, 19.625714285714288, 24.602857142857147, 22.140000000000004, 22.86285714285714, 22.380000000000003, 22.76857142857143, 22.93714285714286, 23.8, 25.060000000000002, 25.928571428571427, 23.334285714285713, 24.84285714285714, 26.68571428571429, 24.928571428571427, 22.811428571428575, 20.879999999999995, 21.56571428571429, 22.734285714285715, 23.16857142857143, 26.357142857142854, 21.917142857142856, 22.665714285714287, 21.48857142857143, 21.342857142857145, 22.854285714285712, 23.271428571428565, 21.854285714285712, 24.808571428571426, 22.51142857142857, 24.431428571428572, 23.882857142857144, 25.237142857142857, 24.677142857142858, 24.777142857142856, 24.485714285714284, 23.574285714285715, 24.108571428571427, 22.81428571428571, 24.571428571428573, 26.282857142857143, 23.608571428571427, 23.122857142857143, 21.65714285714286, 22.408571428571427, 24.500000000000004, 23.819999999999997, 25.09714285714286, 25.757142857142856, 23.637142857142855, 21.897142857142857, 23.380000000000003, 23.06285714285714, 23.88, 22.04857142857143, 24.125714285714288, 24.240000000000002, 23.394285714285715, 19.92, 23.74, 24.65714285714286, 21.825714285714284, 24.69142857142857, 22.925714285714285, 23.957142857142856, 24.185714285714287, 21.514285714285716, 25.202857142857148, 25.068571428571428, 23.845714285714287, 23.502857142857142, 23.44857142857143, 25.068571428571424, 23.22, 22.825714285714284, 24.142857142857142, 22.49142857142857, 25.922857142857143, 22.168571428571433, 24.765714285714285, 22.720000000000002, 21.40285714285714, 22.23142857142857, 20.66857142857143, 24.12, 22.765714285714285, 22.100000000000005, 25.41428571428571, 22.725714285714282, 25.98, 23.808571428571426, 25.802857142857146, 23.534285714285712, 21.514285714285716, 24.091428571428573, 24.165714285714284, 23.757142857142856, 22.854285714285716, 22.845714285714287, 22.81142857142857, 23.76571428571429, 22.905714285714282, 25.431428571428576, 21.69428571428571, 24.182857142857145, 25.21428571428571, 25.148571428571426, 21.55142857142857, 26.751428571428573, 20.19142857142857, 23.051428571428573, 23.36285714285714, 20.542857142857144, 23.92, 26.014285714285712, 23.085714285714285, 22.4, 24.271428571428572, 22.934285714285714, 22.71428571428571, 22.47714285714286, 24.497142857142858, 23.93142857142857, 23.12857142857143, 22.268571428571427, 22.597142857142856, 22.66, 25.682857142857145, 23.139999999999997, 23.005714285714287, 24.917142857142856, 23.414285714285715, 23.63142857142857, 23.051428571428573, 24.20285714285714, 22.92571428571429, 23.454285714285714, 23.531428571428574, 21.285714285714285, 24.242857142857144, 23.60571428571429, 26.268571428571427, 23.345714285714287, 25.197142857142858, 24.542857142857144, 22.57142857142857, 23.302857142857142, 24.35428571428571, 22.965714285714284, 22.231428571428573, 23.277142857142863, 23.734285714285715, 22.242857142857147, 22.76, 23.208571428571428, 23.4, 22.86857142857143, 23.94285714285714, 24.257142857142856, 22.38285714285714, 22.27714285714286, 24.60857142857143, 24.322857142857142, 21.82, 21.645714285714284, 24.13142857142857, 23.040000000000003, 22.654285714285717, 24.62857142857143, 23.537142857142857, 21.551428571428577, 25.73428571428571, 23.97142857142857, 24.0, 24.088571428571427, 22.89428571428571, 25.037142857142857, 23.328571428571433, 20.717142857142857, 23.625714285714288, 24.77142857142857, 21.857142857142858, 24.157142857142862, 23.834285714285716, 25.611428571428572, 22.9, 22.137142857142855, 22.782857142857143, 21.52857142857143, 23.642857142857146, 23.52857142857143, 22.954285714285717, 23.219999999999995, 26.134285714285717, 21.93428571428571, 24.185714285714287, 24.554285714285715, 25.06, 22.91714285714286, 23.891428571428573, 24.454285714285714, 23.33142857142857, 25.28571428571429, 21.779999999999998, 24.04, 26.04571428571429, 23.597142857142856, 23.725714285714282, 24.39142857142857, 23.094285714285714, 23.748571428571427, 24.454285714285717, 23.625714285714288, 21.340000000000003, 22.25142857142857, 25.665714285714287, 23.985714285714284, 21.50857142857143, 23.674285714285716, 24.042857142857144, 24.580000000000002, 20.945714285714285, 23.34857142857143, 22.528571428571432, 21.58857142857143, 24.028571428571425, 22.962857142857143, 25.91142857142857, 24.30857142857143, 22.35142857142857, 23.474285714285713, 21.765714285714285, 21.722857142857144, 20.82, 23.63142857142857, 24.93714285714286, 25.457142857142856, 23.44857142857143, 23.47714285714286, 23.74857142857143, 23.791428571428572, 23.245714285714286, 26.642857142857142, 23.665714285714284, 23.825714285714284, 24.257142857142856, 24.60571428571429, 24.80571428571428, 21.762857142857147, 24.911428571428573, 23.831428571428567, 24.097142857142856, 21.857142857142854, 20.39714285714286, 24.162857142857145, 24.07714285714286, 23.951428571428572, 23.62857142857143, 24.565714285714286, 25.951428571428576, 25.891428571428577, 21.425714285714285, 24.21714285714286, 24.325714285714284, 23.39428571428571, 22.474285714285713]\n",
            "Mean: 23.515297142857143 \n",
            "\n"
          ]
        },
        {
          "output_type": "execute_result",
          "data": {
            "text/plain": [
              "Text(0, 0.5, 'Density')"
            ]
          },
          "metadata": {},
          "execution_count": 18
        },
        {
          "output_type": "display_data",
          "data": {
            "text/plain": [
              "<Figure size 432x288 with 1 Axes>"
            ],
            "image/png": "[encoded data removed]"
          },
          "metadata": {
            "needs_background": "light"
          }
        }
      ]
    },
    {
      "cell_type": "code",
      "source": [
        "#Sampling Distribution based on Sampling Proportion\n"
      ],
      "metadata": {
        "id": "r03AKkacSJLc"
      },
      "execution_count": 19,
      "outputs": []
    },
    {
      "cell_type": "markdown",
      "source": [
        "Chapter 6 \n",
        "\n",
        "\n",
        "1.   Calculate Population Mean, Confidence Interval Sigma Known or Unknown\n",
        "2.   Apply Normal Z-Statistic\n",
        "\n"
      ],
      "metadata": {
        "id": "6TlZQggbVFNZ"
      }
    },
    {
      "cell_type": "code",
      "source": [
        "#Calculate Population Mean \n",
        "pop_Mean = cars_df['MPG'].mean()\n",
        "print('Population Mean: '+ str(pop_Mean))\n",
        "\n",
        "#Calculate Confidence Interval\n",
        "#Using Normal Distribution Due to High Sample Size \n",
        "#95% Confidence Interval \n",
        "\n",
        "st.norm.interval(alpha =.95, loc=np.mean(cars_df['MPG']), scale = st.sem(cars_df['MPG']))\n",
        "\n",
        "#95% chance population mean is found between 22.746 and 24.28"
      ],
      "metadata": {
        "id": "L0CUtCFFVW4B",
        "colab": {
          "base_uri": "https://localhost:8080/",
          "height": 0
        },
        "outputId": "09588381-dd84-4154-c8d1-14b2fe74f569"
      },
      "execution_count": 20,
      "outputs": [
        {
          "output_type": "stream",
          "name": "stdout",
          "text": [
            "Population Mean: 23.514572864321615\n"
          ]
        },
        {
          "output_type": "execute_result",
          "data": {
            "text/plain": [
              "(22.74669838467898, 24.28244734396425)"
            ]
          },
          "metadata": {},
          "execution_count": 20
        }
      ]
    },
    {
      "cell_type": "code",
      "source": [
        "#Apply Normal Z-statistic\n",
        "\n",
        "z_scoresMPG = st.zscore(cars_df['MPG'])\n",
        "cars_zscore_df = pd.DataFrame(cars_df['MPG'])\n",
        "cars_zscore_df['Z-Scores'] = st.zscore(cars_df['MPG']);\n",
        "\n",
        "#Printing first 5 values, but all values available in data frame\n",
        "print(cars_zscore_df.head())\n"
      ],
      "metadata": {
        "id": "YlK4C0RZVgtg",
        "colab": {
          "base_uri": "https://localhost:8080/",
          "height": 0
        },
        "outputId": "3900c570-cc2e-4105-85ab-f0c874d9122a"
      },
      "execution_count": 21,
      "outputs": [
        {
          "output_type": "stream",
          "name": "stdout",
          "text": [
            "    MPG  Z-Scores\n",
            "0  18.0 -0.706439\n",
            "1  15.0 -1.090751\n",
            "2  18.0 -0.706439\n",
            "3  16.0 -0.962647\n",
            "4  17.0 -0.834543\n"
          ]
        }
      ]
    },
    {
      "cell_type": "markdown",
      "source": [
        "Chapter 7 \n",
        "\n",
        "\n",
        "*   Formulate Hypothesis Test \n",
        "*   Apply Hypothesis Test either using Normal z Statistic or Student's t-Statistic\n",
        "\n"
      ],
      "metadata": {
        "id": "wI-rsIoLZ8HL"
      }
    },
    {
      "cell_type": "code",
      "source": [
        "#Hypothesis Test \n",
        "\n",
        "#Assumptions \n",
        "#Normal Distribution of Population\n",
        "\n",
        "#Null Hypothesis \n",
        "#Cars with 8 cylinders do not have a lower MPG than population Mean\n",
        "# 8cyl Mean = Population Mena\n",
        "\n",
        "#Alternate Hypothesis \n",
        "#Cars with 8 cylinders do have a lower MPG than population mean \n",
        "#8cyl Mean < Population Mean\n",
        "\n",
        "\n",
        "#Creating Sample\n",
        "cars_8cyl_df = cars_df.loc[cars_df['Cylinders'] == 8]\n",
        "\n",
        "#Values for zTest \n",
        "alpha = .05\n",
        "populationMean = cars_df['MPG'].mean()\n",
        "populationStd = cars_df['MPG'].std()\n",
        "\n",
        "zTestScore, pValue = ztest(cars_8cyl_df['MPG'], value = populationMean, alternative = 'smaller')\n",
        "\n",
        "print('Z statistic: '+str(zTestScore))\n",
        "print('P Value: '+ str(pValue))\n",
        "print('As P Value is less than .05, we can reject our null hypothesis')\n"
      ],
      "metadata": {
        "id": "G3ak_RS2YXUo",
        "colab": {
          "base_uri": "https://localhost:8080/",
          "height": 0
        },
        "outputId": "8e661441-3130-4c68-d623-beefc20dde65"
      },
      "execution_count": 22,
      "outputs": [
        {
          "output_type": "stream",
          "name": "stdout",
          "text": [
            "Z statistic: -30.599156011100465\n",
            "P Value: 6.280054840749652e-206\n",
            "As P Value is less than .05, we can reject our null hypothesis\n"
          ]
        }
      ]
    },
    {
      "cell_type": "markdown",
      "source": [
        "Chapter 8 \n",
        "\n",
        "\n",
        "\n",
        "*   Compute Standard Deviation, and Confidence Interval for two Data Sets\n",
        "*   Calculate the Paired Difference Confidence Interval\n",
        "\n",
        "\n",
        "\n"
      ],
      "metadata": {
        "id": "ZiIkz3Hf78j6"
      }
    },
    {
      "cell_type": "code",
      "source": [
        "#Calculating STD DEviation and Confidence Intervals \n",
        "\n",
        "cars_df1 = cars_df['MPG'].loc[2:41:2]\n",
        "cars_df2 = cars_df['MPG'].loc[1:40:2]\n",
        "\n",
        "\n",
        "#Std and Confidence Intervals of Dataset 1 \n",
        "print('Standard Deviation: '+ str(cars_df1.std()))\n",
        "print('Confidence Intervals: '+ str(st.norm.interval(alpha =.95, loc=np.mean(cars_df1), scale = st.sem(cars_df1))))\n",
        "\n",
        "#Std and Confidence Intervals of Dataset 2\n",
        "print('Standard Deviation: '+ str(cars_df1.std()))\n",
        "print('Confidence Intervals: '+ str(st.norm.interval(alpha =.95, loc=np.mean(cars_df2), scale = st.sem(cars_df2))))\n"
      ],
      "metadata": {
        "id": "W2oFjszk8J1S",
        "colab": {
          "base_uri": "https://localhost:8080/",
          "height": 0
        },
        "outputId": "c7fe8fc7-879d-40d4-90d1-9a44beeea166"
      },
      "execution_count": 23,
      "outputs": [
        {
          "output_type": "stream",
          "name": "stdout",
          "text": [
            "Standard Deviation: 5.914836778614188\n",
            "Confidence Intervals: (16.070669682690934, 21.69403619966201)\n",
            "Standard Deviation: 5.914836778614188\n",
            "Confidence Intervals: (15.791444280721189, 21.149732189867045)\n"
          ]
        }
      ]
    },
    {
      "cell_type": "code",
      "source": [
        "#Calculating the Paired Difference Confidence Interval \n",
        "\n",
        "alpha = .05\n",
        "diff_samples = np.array(cars_df1) - np.array(cars_df2)\n",
        "n= len(cars_df1)\n",
        "diff_mean = np.mean(diff_samples)\n",
        "diff_variance = np.var(diff_samples, ddof=1)\n",
        "critical_val = st.t.ppf(q = 1-alpha/2, df = n - 1)\n",
        "radius = critical_val*np.sqrt(diff_variance)/np.sqrt(n)\n",
        "\n",
        "\n",
        "print('Paired Confidence Interval:')\n",
        "( diff_mean - radius, diff_mean + radius )\n",
        "\n",
        "\n",
        "\n"
      ],
      "metadata": {
        "colab": {
          "base_uri": "https://localhost:8080/",
          "height": 0
        },
        "id": "0eKqEQ_E-PQw",
        "outputId": "88ad445f-aa3f-44ad-e347-269bd67082ee"
      },
      "execution_count": 24,
      "outputs": [
        {
          "output_type": "stream",
          "name": "stdout",
          "text": [
            "Paired Confidence Interval:\n"
          ]
        },
        {
          "output_type": "execute_result",
          "data": {
            "text/plain": [
              "(-1.4156374181077176, 2.239166829872423)"
            ]
          },
          "metadata": {},
          "execution_count": 24
        }
      ]
    },
    {
      "cell_type": "markdown",
      "source": [
        "Chapter 11 \n",
        "\n",
        "\n",
        "*   Regression Equation\n",
        "*   Correlation \n",
        "*   Coefficent of Determination\n",
        "\n",
        "\n",
        "\n",
        "\n"
      ],
      "metadata": {
        "id": "WbgnIbWMgaPk"
      }
    },
    {
      "cell_type": "code",
      "source": [
        "# We are looking at regression between MPG and Horsepower \n",
        "x = np.array(cars_df['Horsepower']).reshape(-1,1)\n",
        "y = np.array(cars_df['MPG'])\n",
        "\n",
        "#Correlation \n",
        "correlation = np.corrcoef(np.array(cars_df['Horsepower']),np.array(cars_df['MPG']))\n",
        "print('Correlation: '+str(correlation[0][1]))\n",
        "\n",
        "\n",
        "plt.scatter(x,y)\n",
        "plt.xlabel('Horsepower')\n",
        "plt.ylabel('MPG')\n",
        "\n",
        "model = LinearRegression()\n",
        "model.fit(x,y)\n",
        "r_sq = model.score(x, y)\n",
        "\n",
        "print('coefficient of determination:', r_sq)\n",
        "print('intercept:', model.intercept_)\n",
        "print('slope:', model.coef_)\n",
        "\n",
        "#Regression Equation \n",
        "# Y = -.14639875x + 38.57819499120596\n",
        "# Rsqared \n",
        ".5689325831271121\n",
        "#Correlation"
      ],
      "metadata": {
        "id": "Ioo77sGKbfna",
        "colab": {
          "base_uri": "https://localhost:8080/",
          "height": 366
        },
        "outputId": "8d014879-d7a6-4389-f698-fdb9e29accd1"
      },
      "execution_count": 25,
      "outputs": [
        {
          "output_type": "stream",
          "name": "stdout",
          "text": [
            "Correlation: -0.7542761981708772\n",
            "coefficient of determination: 0.5689325831271121\n",
            "intercept: 38.57819499120956\n",
            "slope: [-0.14639875]\n"
          ]
        },
        {
          "output_type": "execute_result",
          "data": {
            "text/plain": [
              "0.5689325831271121"
            ]
          },
          "metadata": {},
          "execution_count": 25
        },
        {
          "output_type": "display_data",
          "data": {
            "text/plain": [
              "<Figure size 432x288 with 1 Axes>"
            ],
            "image/png": "[encoded data removed]"
          },
          "metadata": {
            "needs_background": "light"
          }
        }
      ]
    },
    {
      "cell_type": "code",
      "source": [
        ""
      ],
      "metadata": {
        "id": "rkAQq-dohMoo"
      },
      "execution_count": 25,
      "outputs": []
    }
  ]
}